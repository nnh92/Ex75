{
  "nbformat": 4,
  "nbformat_minor": 0,
  "metadata": {
    "colab": {
      "provenance": [],
      "authorship_tag": "ABX9TyP8+O9e0LaxLz2TlEh7T2dz",
      "include_colab_link": true
    },
    "kernelspec": {
      "name": "python3",
      "display_name": "Python 3"
    },
    "language_info": {
      "name": "python"
    }
  },
  "cells": [
    {
      "cell_type": "markdown",
      "metadata": {
        "id": "view-in-github",
        "colab_type": "text"
      },
      "source": [
        "<a href=\"https://colab.research.google.com/github/nnh92/Ex75-80/blob/main/Ex80.ipynb\" target=\"_parent\"><img src=\"https://colab.research.google.com/assets/colab-badge.svg\" alt=\"Open In Colab\"/></a>"
      ]
    },
    {
      "cell_type": "code",
      "execution_count": 4,
      "metadata": {
        "id": "_tjK72dm79gJ",
        "outputId": "40786b43-cfe0-4c16-92a8-0b0cc5f0f193",
        "colab": {
          "base_uri": "https://localhost:8080/"
        }
      },
      "outputs": [
        {
          "output_type": "stream",
          "name": "stdout",
          "text": [
            "Nhap day so: 2 5 8 4 3 2 0 5 8\n",
            "[8, 8, 5, 5, 4, 3, 2, 2, 0]\n"
          ]
        }
      ],
      "source": [
        "def Sap_Xep(s):\n",
        "  t = 0\n",
        "  for i in range(len(s)-1):\n",
        "    for j in range(i+1, len(s)):\n",
        "      if s[i] < s[j]:\n",
        "        t = s[i]\n",
        "        s[i] = s[j]\n",
        "        s[j] = t\n",
        "  return s\n",
        "\n",
        "s = list(map(int, input('Nhap day so: ').split()))\n",
        "\n",
        "print(Sap_Xep(s))\n",
        "\n",
        "\n"
      ]
    }
  ]
}