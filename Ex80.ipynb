{
  "nbformat": 4,
  "nbformat_minor": 0,
  "metadata": {
    "colab": {
      "provenance": [],
      "authorship_tag": "ABX9TyMaCLs8ZzGQugSmWjXCs0EY",
      "include_colab_link": true
    },
    "kernelspec": {
      "name": "python3",
      "display_name": "Python 3"
    },
    "language_info": {
      "name": "python"
    }
  },
  "cells": [
    {
      "cell_type": "markdown",
      "metadata": {
        "id": "view-in-github",
        "colab_type": "text"
      },
      "source": [
        "<a href=\"https://colab.research.google.com/github/nnh92/Ex75-80/blob/main/Ex80.ipynb\" target=\"_parent\"><img src=\"https://colab.research.google.com/assets/colab-badge.svg\" alt=\"Open In Colab\"/></a>"
      ]
    },
    {
      "cell_type": "code",
      "execution_count": 6,
      "metadata": {
        "id": "_tjK72dm79gJ",
        "colab": {
          "base_uri": "https://localhost:8080/"
        },
        "outputId": "44fb0070-6d53-4a7f-b3fb-4333fae0bdb5"
      },
      "outputs": [
        {
          "output_type": "stream",
          "name": "stdout",
          "text": [
            "Nhap day so: 3 5 8 5 2 1\n",
            "[8.0, 5.0, 5.0, 3.0, 2.0, 1.0]\n"
          ]
        }
      ],
      "source": [
        "def Sap_Xep(s):\n",
        "  t = 0\n",
        "  for i in range(len(s)-1):\n",
        "    for j in range(i+1, len(s)):\n",
        "      if s[i] < s[j]:\n",
        "        t = s[i]\n",
        "        s[i] = s[j]\n",
        "        s[j] = t\n",
        "  return s\n",
        "\n",
        "s = list(map(float, input('Nhap day so: ').split()))\n",
        "\n",
        "print(Sap_Xep(s))\n",
        "\n",
        "\n"
      ]
    }
  ]
}